{
 "cells": [
  {
   "cell_type": "markdown",
   "metadata": {},
   "source": [
    "Write a simple game with the following requirements:\n",
    "\n",
    "1. Print a welcome message that says \"Welcome to Hangman\"\n",
    "2. Store a list of different words that can be used in the game. When the game starts, pick one word randomly. For now, use a list of only single words. \n",
    "3. Display that random word to the user, but display it only as '_' (underscores). e.g., if the word is 'Alice', then only _ _ _ _ _ should be displayed. \n",
    "3. Keep asking the user to guess the word one letter at a time until either the user guesses it correctly, or they run out of total 10 attempts. \n",
    "    3.1. Print how many attempts are left\n",
    "    3.2. Print the current state of the guessed word\n",
    "    3.3. Ask the user enter a single letter\n",
    "    3.4 Every time the user enters something, check that the input is only alphabet and not numbers or special characters. If the user enters such a character, tell the user \"Invalid Character\" and ask the user to try again. \n",
    "    3.5. Keep track of all the letters that the user has entered while playing the game\n",
    "    3.6. If the user enters a letter that was already entered before, inform the user. \n",
    "    3.7. Every time the user makes an incorrect guess, the number of total attempts must be decreased by 1. \n",
    "    3.8. Every time the user makes a correct guess, inform the user that it was correct, fill the word with that letter and continue. For example, if the user enters 'i' when trying to guess the word 'Alice', display to the user _ _ i _ _\n",
    "    3.9 If the entire word has been guessed correctly, display the message \"Awesome! You guessed the word correctly\".\n",
    "4. After the game ends, display \"Thank you for playing. See you next time\" if the user was able to guess the word correctly. Otherwise, display \"Thank you for playing. Better luck next time\" if the user could not guess the word and the number of total attempts is 0. \n",
    "\n",
    "After your have finished writing the program and it works flawlessly, you can COMMIT and then PUSH your program to your GitHub acccount. Then copy that repository link and submit it to \"Non-graded Exercise #2: If-else and Loops\" submission box\n",
    "\n",
    "*** If you still have time and want to try something more, try using a list of multiple words that may have numbers and even special characters. For example, \"Oh, my God!\""
   ]
  },
  {
   "cell_type": "code",
   "execution_count": null,
   "metadata": {},
   "outputs": [],
   "source": [
    "import random # You need this module to select a word randomly\n",
    "\n",
    "# Create a list of words that the game can choose from and then ask the user to guess \n",
    "word_list = [\"testa\",\"testbb\",\"testccc\",\"testdddd\",\"testeeee\",\"testfffff\",\"testgggggg\"]\n",
    "\n",
    "# Store in this variable a random word from the above word_list\n",
    "word_to_guess = random.choice(word_list)\n",
    "\n",
    "# Complete the rest of the code. You will have to use the different methods you have learned so far. \n",
    "print(f\"------------------for test : {word_to_guess}\")\n",
    "word_len = len(word_to_guess)\n",
    "play_times = 10\n",
    "temp_letter = []\n",
    "print(\"Hello Welcome to Hangman\")\n",
    "print(f\"the word len is: {word_len}\")\n",
    "print(f\"Now game start you have totally {play_times} times to play it !!!engoy it.\")\n",
    "print(\"-------------------------------------------------------------------------------------------------\")\n",
    "while play_times>0:\n",
    "    letter = input(\"Input the letter you guess here: \").lower()\n",
    "    \n",
    "    # Check the char is valid\n",
    "    if not letter.isalpha() or len(letter) != 1:\n",
    "            print(\"Invalid Character\")\n",
    "            print(\"TRY AGAIN!\")\n",
    "            continue\n",
    "    # print(\"The letter you guess is : \"+letter)\n",
    "    # if letter in temp_letter:\n",
    "    #     print(\"You have already gussed it Keep try! (Don't expend time for this time)\")\n",
    "    #     continue\n",
    "    play_times = play_times - 1\n",
    "    print(f\"Attempts left: {play_times}\")\n",
    "    if letter in word_to_guess:\n",
    "        print(\"COOL\")\n",
    "        temp_letter.append(letter)\n",
    "    else:\n",
    "        print(\"T T\")\n",
    "    print(\"Current word: \" + \" \".join(\"_\" if letter not in temp_letter else letter for letter in word_to_guess))\n",
    "    \n",
    "    # if letter in word_to_guess:\n",
    "    if \"_\" not in \" \".join(\"_\" if letter not in temp_letter else letter for letter in word_to_guess):      \n",
    "        print(\"Awesome! You guessed the word correctly.\")\n",
    "        break\n",
    "if temp_letter==0:\n",
    "    print(\"Sorry You Lose! Place try next time\")\n",
    "print(\"Thank you for playing\")"
   ]
  },
  {
   "cell_type": "code",
   "execution_count": 1,
   "metadata": {},
   "outputs": [
    {
     "name": "stdout",
     "output_type": "stream",
     "text": [
      "test uplode\n"
     ]
    }
   ],
   "source": [
    "print(\"test uplode\")"
   ]
  }
 ],
 "metadata": {
  "kernelspec": {
   "display_name": "Python 3",
   "language": "python",
   "name": "python3"
  },
  "language_info": {
   "codemirror_mode": {
    "name": "ipython",
    "version": 3
   },
   "file_extension": ".py",
   "mimetype": "text/x-python",
   "name": "python",
   "nbconvert_exporter": "python",
   "pygments_lexer": "ipython3",
   "version": "3.10.4"
  }
 },
 "nbformat": 4,
 "nbformat_minor": 2
}
